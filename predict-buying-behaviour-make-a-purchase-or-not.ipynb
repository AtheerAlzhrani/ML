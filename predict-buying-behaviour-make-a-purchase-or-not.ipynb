{
 "cells": [
  {
   "cell_type": "markdown",
   "id": "608d0003",
   "metadata": {
    "papermill": {
     "duration": 0.006833,
     "end_time": "2024-05-11T19:16:38.328269",
     "exception": false,
     "start_time": "2024-05-11T19:16:38.321436",
     "status": "completed"
    },
    "tags": []
   },
   "source": [
    "## Applying Decision Tree"
   ]
  },
  {
   "cell_type": "markdown",
   "id": "cfea587d",
   "metadata": {
    "papermill": {
     "duration": 0.005857,
     "end_time": "2024-05-11T19:16:38.340314",
     "exception": false,
     "start_time": "2024-05-11T19:16:38.334457",
     "status": "completed"
    },
    "tags": []
   },
   "source": [
    "**About the dataset:**\n",
    "- The Consumer's Buying Behaviour Dataset includes three columns: Age, Estimated Salary, and Purchased.\n",
    "\n",
    "**I will use a decision tree algorithm to predict whether an individual will make a purchase based on their age and estimated salary.**"
   ]
  },
  {
   "cell_type": "markdown",
   "id": "13aa0451",
   "metadata": {
    "papermill": {
     "duration": 0.005833,
     "end_time": "2024-05-11T19:16:38.352173",
     "exception": false,
     "start_time": "2024-05-11T19:16:38.346340",
     "status": "completed"
    },
    "tags": []
   },
   "source": [
    "## Step1: Import th required librarys"
   ]
  },
  {
   "cell_type": "markdown",
   "id": "a7c7024a",
   "metadata": {
    "papermill": {
     "duration": 0.005834,
     "end_time": "2024-05-11T19:16:38.364015",
     "exception": false,
     "start_time": "2024-05-11T19:16:38.358181",
     "status": "completed"
    },
    "tags": []
   },
   "source": []
  },
  {
   "cell_type": "code",
   "execution_count": 1,
   "id": "ec367800",
   "metadata": {
    "execution": {
     "iopub.execute_input": "2024-05-11T19:16:38.377772Z",
     "iopub.status.busy": "2024-05-11T19:16:38.377391Z",
     "iopub.status.idle": "2024-05-11T19:16:40.963827Z",
     "shell.execute_reply": "2024-05-11T19:16:40.962630Z"
    },
    "papermill": {
     "duration": 2.596226,
     "end_time": "2024-05-11T19:16:40.966324",
     "exception": false,
     "start_time": "2024-05-11T19:16:38.370098",
     "status": "completed"
    },
    "tags": []
   },
   "outputs": [],
   "source": [
    "import pandas as pd\n",
    "import numpy as np\n",
    "import seaborn as sns\n",
    "import matplotlib .pyplot as plt\n",
    "from sklearn.model_selection import train_test_split\n",
    "from sklearn.tree import DecisionTreeClassifier\n",
    "from sklearn import tree\n",
    "from sklearn.metrics import accuracy_score,classification_report,confusion_matrix\n",
    "from sklearn.tree import export_text\n",
    "%matplotlib inline "
   ]
  },
  {
   "cell_type": "markdown",
   "id": "9addc879",
   "metadata": {
    "papermill": {
     "duration": 0.00594,
     "end_time": "2024-05-11T19:16:40.978565",
     "exception": false,
     "start_time": "2024-05-11T19:16:40.972625",
     "status": "completed"
    },
    "tags": []
   },
   "source": [
    "## Step 2: Download the Dataset"
   ]
  },
  {
   "cell_type": "code",
   "execution_count": 2,
   "id": "c2f7f607",
   "metadata": {
    "execution": {
     "iopub.execute_input": "2024-05-11T19:16:40.993893Z",
     "iopub.status.busy": "2024-05-11T19:16:40.993327Z",
     "iopub.status.idle": "2024-05-11T19:16:41.038873Z",
     "shell.execute_reply": "2024-05-11T19:16:41.037807Z"
    },
    "papermill": {
     "duration": 0.056245,
     "end_time": "2024-05-11T19:16:41.041039",
     "exception": false,
     "start_time": "2024-05-11T19:16:40.984794",
     "status": "completed"
    },
    "tags": []
   },
   "outputs": [
    {
     "data": {
      "text/html": [
       "<div>\n",
       "<style scoped>\n",
       "    .dataframe tbody tr th:only-of-type {\n",
       "        vertical-align: middle;\n",
       "    }\n",
       "\n",
       "    .dataframe tbody tr th {\n",
       "        vertical-align: top;\n",
       "    }\n",
       "\n",
       "    .dataframe thead th {\n",
       "        text-align: right;\n",
       "    }\n",
       "</style>\n",
       "<table border=\"1\" class=\"dataframe\">\n",
       "  <thead>\n",
       "    <tr style=\"text-align: right;\">\n",
       "      <th></th>\n",
       "      <th>Age</th>\n",
       "      <th>EstimatedSalary</th>\n",
       "      <th>Purchased</th>\n",
       "    </tr>\n",
       "  </thead>\n",
       "  <tbody>\n",
       "    <tr>\n",
       "      <th>0</th>\n",
       "      <td>19</td>\n",
       "      <td>19000</td>\n",
       "      <td>0</td>\n",
       "    </tr>\n",
       "    <tr>\n",
       "      <th>1</th>\n",
       "      <td>35</td>\n",
       "      <td>20000</td>\n",
       "      <td>0</td>\n",
       "    </tr>\n",
       "    <tr>\n",
       "      <th>2</th>\n",
       "      <td>26</td>\n",
       "      <td>43000</td>\n",
       "      <td>0</td>\n",
       "    </tr>\n",
       "    <tr>\n",
       "      <th>3</th>\n",
       "      <td>27</td>\n",
       "      <td>57000</td>\n",
       "      <td>0</td>\n",
       "    </tr>\n",
       "    <tr>\n",
       "      <th>4</th>\n",
       "      <td>19</td>\n",
       "      <td>76000</td>\n",
       "      <td>0</td>\n",
       "    </tr>\n",
       "    <tr>\n",
       "      <th>...</th>\n",
       "      <td>...</td>\n",
       "      <td>...</td>\n",
       "      <td>...</td>\n",
       "    </tr>\n",
       "    <tr>\n",
       "      <th>395</th>\n",
       "      <td>46</td>\n",
       "      <td>41000</td>\n",
       "      <td>1</td>\n",
       "    </tr>\n",
       "    <tr>\n",
       "      <th>396</th>\n",
       "      <td>51</td>\n",
       "      <td>23000</td>\n",
       "      <td>1</td>\n",
       "    </tr>\n",
       "    <tr>\n",
       "      <th>397</th>\n",
       "      <td>50</td>\n",
       "      <td>20000</td>\n",
       "      <td>1</td>\n",
       "    </tr>\n",
       "    <tr>\n",
       "      <th>398</th>\n",
       "      <td>36</td>\n",
       "      <td>33000</td>\n",
       "      <td>0</td>\n",
       "    </tr>\n",
       "    <tr>\n",
       "      <th>399</th>\n",
       "      <td>49</td>\n",
       "      <td>36000</td>\n",
       "      <td>1</td>\n",
       "    </tr>\n",
       "  </tbody>\n",
       "</table>\n",
       "<p>400 rows × 3 columns</p>\n",
       "</div>"
      ],
      "text/plain": [
       "     Age  EstimatedSalary  Purchased\n",
       "0     19            19000          0\n",
       "1     35            20000          0\n",
       "2     26            43000          0\n",
       "3     27            57000          0\n",
       "4     19            76000          0\n",
       "..   ...              ...        ...\n",
       "395   46            41000          1\n",
       "396   51            23000          1\n",
       "397   50            20000          1\n",
       "398   36            33000          0\n",
       "399   49            36000          1\n",
       "\n",
       "[400 rows x 3 columns]"
      ]
     },
     "execution_count": 2,
     "metadata": {},
     "output_type": "execute_result"
    }
   ],
   "source": [
    "df=pd.read_csv('/kaggle/input/consumers-buying-behavior/social_ads.csv')\n",
    "df"
   ]
  },
  {
   "cell_type": "markdown",
   "id": "d332a8fc",
   "metadata": {
    "papermill": {
     "duration": 0.006231,
     "end_time": "2024-05-11T19:16:41.053787",
     "exception": false,
     "start_time": "2024-05-11T19:16:41.047556",
     "status": "completed"
    },
    "tags": []
   },
   "source": [
    "## Step 3: Analyzing the Dataset"
   ]
  },
  {
   "cell_type": "code",
   "execution_count": 3,
   "id": "d0064122",
   "metadata": {
    "execution": {
     "iopub.execute_input": "2024-05-11T19:16:41.068394Z",
     "iopub.status.busy": "2024-05-11T19:16:41.067971Z",
     "iopub.status.idle": "2024-05-11T19:16:41.074105Z",
     "shell.execute_reply": "2024-05-11T19:16:41.073101Z"
    },
    "papermill": {
     "duration": 0.015934,
     "end_time": "2024-05-11T19:16:41.076133",
     "exception": false,
     "start_time": "2024-05-11T19:16:41.060199",
     "status": "completed"
    },
    "tags": []
   },
   "outputs": [
    {
     "data": {
      "text/plain": [
       "(400, 3)"
      ]
     },
     "execution_count": 3,
     "metadata": {},
     "output_type": "execute_result"
    }
   ],
   "source": [
    "df.shape"
   ]
  },
  {
   "cell_type": "code",
   "execution_count": 4,
   "id": "ff7c6340",
   "metadata": {
    "execution": {
     "iopub.execute_input": "2024-05-11T19:16:41.091440Z",
     "iopub.status.busy": "2024-05-11T19:16:41.090881Z",
     "iopub.status.idle": "2024-05-11T19:16:41.100955Z",
     "shell.execute_reply": "2024-05-11T19:16:41.100204Z"
    },
    "papermill": {
     "duration": 0.020152,
     "end_time": "2024-05-11T19:16:41.103131",
     "exception": false,
     "start_time": "2024-05-11T19:16:41.082979",
     "status": "completed"
    },
    "tags": []
   },
   "outputs": [
    {
     "data": {
      "text/plain": [
       "Age                0\n",
       "EstimatedSalary    0\n",
       "Purchased          0\n",
       "dtype: int64"
      ]
     },
     "execution_count": 4,
     "metadata": {},
     "output_type": "execute_result"
    }
   ],
   "source": [
    "df.isnull().sum()"
   ]
  },
  {
   "cell_type": "code",
   "execution_count": 5,
   "id": "80413ee4",
   "metadata": {
    "execution": {
     "iopub.execute_input": "2024-05-11T19:16:41.118998Z",
     "iopub.status.busy": "2024-05-11T19:16:41.118362Z",
     "iopub.status.idle": "2024-05-11T19:16:41.129394Z",
     "shell.execute_reply": "2024-05-11T19:16:41.128370Z"
    },
    "papermill": {
     "duration": 0.021453,
     "end_time": "2024-05-11T19:16:41.131487",
     "exception": false,
     "start_time": "2024-05-11T19:16:41.110034",
     "status": "completed"
    },
    "tags": []
   },
   "outputs": [
    {
     "data": {
      "text/plain": [
       "Age                 43\n",
       "EstimatedSalary    117\n",
       "Purchased            2\n",
       "dtype: int64"
      ]
     },
     "execution_count": 5,
     "metadata": {},
     "output_type": "execute_result"
    }
   ],
   "source": [
    "df.nunique()"
   ]
  },
  {
   "cell_type": "code",
   "execution_count": 6,
   "id": "f2245916",
   "metadata": {
    "execution": {
     "iopub.execute_input": "2024-05-11T19:16:41.147192Z",
     "iopub.status.busy": "2024-05-11T19:16:41.146533Z",
     "iopub.status.idle": "2024-05-11T19:16:41.162822Z",
     "shell.execute_reply": "2024-05-11T19:16:41.162033Z"
    },
    "papermill": {
     "duration": 0.026726,
     "end_time": "2024-05-11T19:16:41.165085",
     "exception": false,
     "start_time": "2024-05-11T19:16:41.138359",
     "status": "completed"
    },
    "tags": []
   },
   "outputs": [
    {
     "name": "stdout",
     "output_type": "stream",
     "text": [
      "<class 'pandas.core.frame.DataFrame'>\n",
      "RangeIndex: 400 entries, 0 to 399\n",
      "Data columns (total 3 columns):\n",
      " #   Column           Non-Null Count  Dtype\n",
      "---  ------           --------------  -----\n",
      " 0   Age              400 non-null    int64\n",
      " 1   EstimatedSalary  400 non-null    int64\n",
      " 2   Purchased        400 non-null    int64\n",
      "dtypes: int64(3)\n",
      "memory usage: 9.5 KB\n"
     ]
    }
   ],
   "source": [
    "df.info()"
   ]
  },
  {
   "cell_type": "code",
   "execution_count": 7,
   "id": "48dd8fc8",
   "metadata": {
    "execution": {
     "iopub.execute_input": "2024-05-11T19:16:41.181332Z",
     "iopub.status.busy": "2024-05-11T19:16:41.180922Z",
     "iopub.status.idle": "2024-05-11T19:16:41.190221Z",
     "shell.execute_reply": "2024-05-11T19:16:41.189166Z"
    },
    "papermill": {
     "duration": 0.019722,
     "end_time": "2024-05-11T19:16:41.192489",
     "exception": false,
     "start_time": "2024-05-11T19:16:41.172767",
     "status": "completed"
    },
    "tags": []
   },
   "outputs": [
    {
     "data": {
      "text/plain": [
       "Purchased\n",
       "0    257\n",
       "1    143\n",
       "Name: count, dtype: int64"
      ]
     },
     "execution_count": 7,
     "metadata": {},
     "output_type": "execute_result"
    }
   ],
   "source": [
    "df['Purchased'].value_counts()"
   ]
  },
  {
   "cell_type": "code",
   "execution_count": 8,
   "id": "176b50c8",
   "metadata": {
    "execution": {
     "iopub.execute_input": "2024-05-11T19:16:41.209516Z",
     "iopub.status.busy": "2024-05-11T19:16:41.208759Z",
     "iopub.status.idle": "2024-05-11T19:16:41.217004Z",
     "shell.execute_reply": "2024-05-11T19:16:41.216073Z"
    },
    "papermill": {
     "duration": 0.019071,
     "end_time": "2024-05-11T19:16:41.219073",
     "exception": false,
     "start_time": "2024-05-11T19:16:41.200002",
     "status": "completed"
    },
    "tags": []
   },
   "outputs": [
    {
     "data": {
      "text/plain": [
       "Age\n",
       "35    32\n",
       "37    20\n",
       "26    16\n",
       "41    16\n",
       "42    16\n",
       "39    15\n",
       "40    15\n",
       "48    14\n",
       "47    14\n",
       "27    13\n",
       "38    13\n",
       "28    12\n",
       "36    12\n",
       "46    12\n",
       "31    11\n",
       "30    11\n",
       "49    10\n",
       "29    10\n",
       "33     9\n",
       "32     9\n",
       "24     9\n",
       "59     7\n",
       "19     7\n",
       "45     7\n",
       "20     7\n",
       "60     7\n",
       "34     6\n",
       "23     6\n",
       "52     6\n",
       "25     6\n",
       "58     6\n",
       "53     5\n",
       "57     5\n",
       "22     5\n",
       "18     5\n",
       "21     4\n",
       "50     4\n",
       "54     4\n",
       "55     3\n",
       "56     3\n",
       "51     3\n",
       "43     3\n",
       "44     2\n",
       "Name: count, dtype: int64"
      ]
     },
     "execution_count": 8,
     "metadata": {},
     "output_type": "execute_result"
    }
   ],
   "source": [
    "df['Age'].value_counts()"
   ]
  },
  {
   "cell_type": "markdown",
   "id": "20ce184b",
   "metadata": {
    "papermill": {
     "duration": 0.00689,
     "end_time": "2024-05-11T19:16:41.233057",
     "exception": false,
     "start_time": "2024-05-11T19:16:41.226167",
     "status": "completed"
    },
    "tags": []
   },
   "source": [
    "## Step 5: Split tha Dataset into a training set and a test set "
   ]
  },
  {
   "cell_type": "code",
   "execution_count": 9,
   "id": "60ae03d9",
   "metadata": {
    "execution": {
     "iopub.execute_input": "2024-05-11T19:16:41.249440Z",
     "iopub.status.busy": "2024-05-11T19:16:41.249019Z",
     "iopub.status.idle": "2024-05-11T19:16:41.255246Z",
     "shell.execute_reply": "2024-05-11T19:16:41.253977Z"
    },
    "papermill": {
     "duration": 0.016959,
     "end_time": "2024-05-11T19:16:41.257354",
     "exception": false,
     "start_time": "2024-05-11T19:16:41.240395",
     "status": "completed"
    },
    "tags": []
   },
   "outputs": [],
   "source": [
    "X=df.drop('Purchased',axis=1)\n",
    "y=df[['Purchased']]"
   ]
  },
  {
   "cell_type": "code",
   "execution_count": 10,
   "id": "15f8f280",
   "metadata": {
    "execution": {
     "iopub.execute_input": "2024-05-11T19:16:41.273978Z",
     "iopub.status.busy": "2024-05-11T19:16:41.273645Z",
     "iopub.status.idle": "2024-05-11T19:16:41.281029Z",
     "shell.execute_reply": "2024-05-11T19:16:41.280225Z"
    },
    "papermill": {
     "duration": 0.018603,
     "end_time": "2024-05-11T19:16:41.283192",
     "exception": false,
     "start_time": "2024-05-11T19:16:41.264589",
     "status": "completed"
    },
    "tags": []
   },
   "outputs": [],
   "source": [
    "X_train,X_test,y_train,y_test=train_test_split(X,y,test_size=0.3,random_state=2)"
   ]
  },
  {
   "cell_type": "markdown",
   "id": "fbd237b4",
   "metadata": {
    "papermill": {
     "duration": 0.007082,
     "end_time": "2024-05-11T19:16:41.297661",
     "exception": false,
     "start_time": "2024-05-11T19:16:41.290579",
     "status": "completed"
    },
    "tags": []
   },
   "source": [
    "## Step 6: Train the Decision Tree Model"
   ]
  },
  {
   "cell_type": "code",
   "execution_count": 11,
   "id": "7d8491c1",
   "metadata": {
    "execution": {
     "iopub.execute_input": "2024-05-11T19:16:41.314380Z",
     "iopub.status.busy": "2024-05-11T19:16:41.313363Z",
     "iopub.status.idle": "2024-05-11T19:16:41.318577Z",
     "shell.execute_reply": "2024-05-11T19:16:41.317729Z"
    },
    "papermill": {
     "duration": 0.015899,
     "end_time": "2024-05-11T19:16:41.320881",
     "exception": false,
     "start_time": "2024-05-11T19:16:41.304982",
     "status": "completed"
    },
    "tags": []
   },
   "outputs": [],
   "source": [
    "model=DecisionTreeClassifier(criterion='gini',random_state=42,max_depth=3,min_samples_leaf=5)"
   ]
  },
  {
   "cell_type": "code",
   "execution_count": 12,
   "id": "ab89ea6c",
   "metadata": {
    "execution": {
     "iopub.execute_input": "2024-05-11T19:16:41.337214Z",
     "iopub.status.busy": "2024-05-11T19:16:41.336850Z",
     "iopub.status.idle": "2024-05-11T19:16:41.350182Z",
     "shell.execute_reply": "2024-05-11T19:16:41.349211Z"
    },
    "papermill": {
     "duration": 0.024256,
     "end_time": "2024-05-11T19:16:41.352339",
     "exception": false,
     "start_time": "2024-05-11T19:16:41.328083",
     "status": "completed"
    },
    "tags": []
   },
   "outputs": [
    {
     "data": {
      "text/html": [
       "<style>#sk-container-id-1 {color: black;background-color: white;}#sk-container-id-1 pre{padding: 0;}#sk-container-id-1 div.sk-toggleable {background-color: white;}#sk-container-id-1 label.sk-toggleable__label {cursor: pointer;display: block;width: 100%;margin-bottom: 0;padding: 0.3em;box-sizing: border-box;text-align: center;}#sk-container-id-1 label.sk-toggleable__label-arrow:before {content: \"▸\";float: left;margin-right: 0.25em;color: #696969;}#sk-container-id-1 label.sk-toggleable__label-arrow:hover:before {color: black;}#sk-container-id-1 div.sk-estimator:hover label.sk-toggleable__label-arrow:before {color: black;}#sk-container-id-1 div.sk-toggleable__content {max-height: 0;max-width: 0;overflow: hidden;text-align: left;background-color: #f0f8ff;}#sk-container-id-1 div.sk-toggleable__content pre {margin: 0.2em;color: black;border-radius: 0.25em;background-color: #f0f8ff;}#sk-container-id-1 input.sk-toggleable__control:checked~div.sk-toggleable__content {max-height: 200px;max-width: 100%;overflow: auto;}#sk-container-id-1 input.sk-toggleable__control:checked~label.sk-toggleable__label-arrow:before {content: \"▾\";}#sk-container-id-1 div.sk-estimator input.sk-toggleable__control:checked~label.sk-toggleable__label {background-color: #d4ebff;}#sk-container-id-1 div.sk-label input.sk-toggleable__control:checked~label.sk-toggleable__label {background-color: #d4ebff;}#sk-container-id-1 input.sk-hidden--visually {border: 0;clip: rect(1px 1px 1px 1px);clip: rect(1px, 1px, 1px, 1px);height: 1px;margin: -1px;overflow: hidden;padding: 0;position: absolute;width: 1px;}#sk-container-id-1 div.sk-estimator {font-family: monospace;background-color: #f0f8ff;border: 1px dotted black;border-radius: 0.25em;box-sizing: border-box;margin-bottom: 0.5em;}#sk-container-id-1 div.sk-estimator:hover {background-color: #d4ebff;}#sk-container-id-1 div.sk-parallel-item::after {content: \"\";width: 100%;border-bottom: 1px solid gray;flex-grow: 1;}#sk-container-id-1 div.sk-label:hover label.sk-toggleable__label {background-color: #d4ebff;}#sk-container-id-1 div.sk-serial::before {content: \"\";position: absolute;border-left: 1px solid gray;box-sizing: border-box;top: 0;bottom: 0;left: 50%;z-index: 0;}#sk-container-id-1 div.sk-serial {display: flex;flex-direction: column;align-items: center;background-color: white;padding-right: 0.2em;padding-left: 0.2em;position: relative;}#sk-container-id-1 div.sk-item {position: relative;z-index: 1;}#sk-container-id-1 div.sk-parallel {display: flex;align-items: stretch;justify-content: center;background-color: white;position: relative;}#sk-container-id-1 div.sk-item::before, #sk-container-id-1 div.sk-parallel-item::before {content: \"\";position: absolute;border-left: 1px solid gray;box-sizing: border-box;top: 0;bottom: 0;left: 50%;z-index: -1;}#sk-container-id-1 div.sk-parallel-item {display: flex;flex-direction: column;z-index: 1;position: relative;background-color: white;}#sk-container-id-1 div.sk-parallel-item:first-child::after {align-self: flex-end;width: 50%;}#sk-container-id-1 div.sk-parallel-item:last-child::after {align-self: flex-start;width: 50%;}#sk-container-id-1 div.sk-parallel-item:only-child::after {width: 0;}#sk-container-id-1 div.sk-dashed-wrapped {border: 1px dashed gray;margin: 0 0.4em 0.5em 0.4em;box-sizing: border-box;padding-bottom: 0.4em;background-color: white;}#sk-container-id-1 div.sk-label label {font-family: monospace;font-weight: bold;display: inline-block;line-height: 1.2em;}#sk-container-id-1 div.sk-label-container {text-align: center;}#sk-container-id-1 div.sk-container {/* jupyter's `normalize.less` sets `[hidden] { display: none; }` but bootstrap.min.css set `[hidden] { display: none !important; }` so we also need the `!important` here to be able to override the default hidden behavior on the sphinx rendered scikit-learn.org. See: https://github.com/scikit-learn/scikit-learn/issues/21755 */display: inline-block !important;position: relative;}#sk-container-id-1 div.sk-text-repr-fallback {display: none;}</style><div id=\"sk-container-id-1\" class=\"sk-top-container\"><div class=\"sk-text-repr-fallback\"><pre>DecisionTreeClassifier(max_depth=3, min_samples_leaf=5, random_state=42)</pre><b>In a Jupyter environment, please rerun this cell to show the HTML representation or trust the notebook. <br />On GitHub, the HTML representation is unable to render, please try loading this page with nbviewer.org.</b></div><div class=\"sk-container\" hidden><div class=\"sk-item\"><div class=\"sk-estimator sk-toggleable\"><input class=\"sk-toggleable__control sk-hidden--visually\" id=\"sk-estimator-id-1\" type=\"checkbox\" checked><label for=\"sk-estimator-id-1\" class=\"sk-toggleable__label sk-toggleable__label-arrow\">DecisionTreeClassifier</label><div class=\"sk-toggleable__content\"><pre>DecisionTreeClassifier(max_depth=3, min_samples_leaf=5, random_state=42)</pre></div></div></div></div></div>"
      ],
      "text/plain": [
       "DecisionTreeClassifier(max_depth=3, min_samples_leaf=5, random_state=42)"
      ]
     },
     "execution_count": 12,
     "metadata": {},
     "output_type": "execute_result"
    }
   ],
   "source": [
    "model.fit(X_train,y_train)"
   ]
  },
  {
   "cell_type": "markdown",
   "id": "31d126e9",
   "metadata": {
    "papermill": {
     "duration": 0.007722,
     "end_time": "2024-05-11T19:16:41.367502",
     "exception": false,
     "start_time": "2024-05-11T19:16:41.359780",
     "status": "completed"
    },
    "tags": []
   },
   "source": [
    "## Step 7: Predict the label for unseen test data"
   ]
  },
  {
   "cell_type": "code",
   "execution_count": 13,
   "id": "2f275362",
   "metadata": {
    "execution": {
     "iopub.execute_input": "2024-05-11T19:16:41.383968Z",
     "iopub.status.busy": "2024-05-11T19:16:41.383570Z",
     "iopub.status.idle": "2024-05-11T19:16:41.393487Z",
     "shell.execute_reply": "2024-05-11T19:16:41.392320Z"
    },
    "papermill": {
     "duration": 0.020721,
     "end_time": "2024-05-11T19:16:41.395610",
     "exception": false,
     "start_time": "2024-05-11T19:16:41.374889",
     "status": "completed"
    },
    "tags": []
   },
   "outputs": [
    {
     "data": {
      "text/plain": [
       "array([0, 0, 0, 0, 1, 1, 0, 0, 0, 1, 0, 0, 1, 0, 0, 0, 0, 1, 1, 0, 0, 0,\n",
       "       0, 0, 0, 0, 0, 0, 1, 1, 0, 0, 0, 0, 1, 1, 1, 0, 0, 1, 0, 0, 0, 0,\n",
       "       0, 1, 0, 1, 1, 0, 1, 1, 0, 0, 1, 0, 0, 1, 1, 0, 0, 1, 1, 0, 1, 1,\n",
       "       0, 0, 0, 1, 0, 1, 0, 0, 1, 0, 1, 0, 1, 0, 1, 1, 0, 1, 0, 0, 1, 0,\n",
       "       1, 1, 1, 0, 1, 1, 0, 0, 0, 0, 0, 0, 0, 0, 0, 0, 0, 0, 0, 0, 0, 1,\n",
       "       0, 0, 1, 0, 1, 0, 0, 1, 1, 0])"
      ]
     },
     "execution_count": 13,
     "metadata": {},
     "output_type": "execute_result"
    }
   ],
   "source": [
    "y_pred=model.predict(X_test)\n",
    "y_pred"
   ]
  },
  {
   "cell_type": "markdown",
   "id": "4c53a34d",
   "metadata": {
    "papermill": {
     "duration": 0.007354,
     "end_time": "2024-05-11T19:16:41.410724",
     "exception": false,
     "start_time": "2024-05-11T19:16:41.403370",
     "status": "completed"
    },
    "tags": []
   },
   "source": [
    "## Step 8: Calculate the model accuracy and Show The Confusion matrix and The Classification Report"
   ]
  },
  {
   "cell_type": "code",
   "execution_count": 14,
   "id": "85411859",
   "metadata": {
    "execution": {
     "iopub.execute_input": "2024-05-11T19:16:41.427676Z",
     "iopub.status.busy": "2024-05-11T19:16:41.427323Z",
     "iopub.status.idle": "2024-05-11T19:16:41.436486Z",
     "shell.execute_reply": "2024-05-11T19:16:41.435334Z"
    },
    "papermill": {
     "duration": 0.020556,
     "end_time": "2024-05-11T19:16:41.438861",
     "exception": false,
     "start_time": "2024-05-11T19:16:41.418305",
     "status": "completed"
    },
    "tags": []
   },
   "outputs": [
    {
     "name": "stdout",
     "output_type": "stream",
     "text": [
      "The accuracy of the model is: 90.0\n"
     ]
    }
   ],
   "source": [
    "accuracy=accuracy_score(y_test,y_pred)\n",
    "print('The accuracy of the model is:',accuracy*100)"
   ]
  },
  {
   "cell_type": "code",
   "execution_count": 15,
   "id": "894ff6c7",
   "metadata": {
    "execution": {
     "iopub.execute_input": "2024-05-11T19:16:41.456077Z",
     "iopub.status.busy": "2024-05-11T19:16:41.455694Z",
     "iopub.status.idle": "2024-05-11T19:16:41.464787Z",
     "shell.execute_reply": "2024-05-11T19:16:41.463912Z"
    },
    "papermill": {
     "duration": 0.020286,
     "end_time": "2024-05-11T19:16:41.466994",
     "exception": false,
     "start_time": "2024-05-11T19:16:41.446708",
     "status": "completed"
    },
    "tags": []
   },
   "outputs": [
    {
     "name": "stdout",
     "output_type": "stream",
     "text": [
      "The Confusion Matrix:\n",
      " [[71  6]\n",
      " [ 6 37]]\n"
     ]
    }
   ],
   "source": [
    "cm=confusion_matrix(y_test,y_pred)\n",
    "print('The Confusion Matrix:\\n',cm)"
   ]
  },
  {
   "cell_type": "code",
   "execution_count": 16,
   "id": "fd9765f0",
   "metadata": {
    "execution": {
     "iopub.execute_input": "2024-05-11T19:16:41.484656Z",
     "iopub.status.busy": "2024-05-11T19:16:41.484319Z",
     "iopub.status.idle": "2024-05-11T19:16:41.500786Z",
     "shell.execute_reply": "2024-05-11T19:16:41.499874Z"
    },
    "papermill": {
     "duration": 0.027814,
     "end_time": "2024-05-11T19:16:41.503011",
     "exception": false,
     "start_time": "2024-05-11T19:16:41.475197",
     "status": "completed"
    },
    "tags": []
   },
   "outputs": [
    {
     "name": "stdout",
     "output_type": "stream",
     "text": [
      "The Classification Report:\n",
      "               precision    recall  f1-score   support\n",
      "\n",
      "           0       0.92      0.92      0.92        77\n",
      "           1       0.86      0.86      0.86        43\n",
      "\n",
      "    accuracy                           0.90       120\n",
      "   macro avg       0.89      0.89      0.89       120\n",
      "weighted avg       0.90      0.90      0.90       120\n",
      "\n"
     ]
    }
   ],
   "source": [
    "report=classification_report(y_test,y_pred)\n",
    "print('The Classification Report:\\n',report)"
   ]
  },
  {
   "cell_type": "markdown",
   "id": "8d60c59e",
   "metadata": {
    "papermill": {
     "duration": 0.007605,
     "end_time": "2024-05-11T19:16:41.518509",
     "exception": false,
     "start_time": "2024-05-11T19:16:41.510904",
     "status": "completed"
    },
    "tags": []
   },
   "source": [
    "## Step 9: Display the decision Tree"
   ]
  },
  {
   "cell_type": "code",
   "execution_count": 17,
   "id": "2c993366",
   "metadata": {
    "execution": {
     "iopub.execute_input": "2024-05-11T19:16:41.535650Z",
     "iopub.status.busy": "2024-05-11T19:16:41.535265Z",
     "iopub.status.idle": "2024-05-11T19:16:41.540425Z",
     "shell.execute_reply": "2024-05-11T19:16:41.539374Z"
    },
    "papermill": {
     "duration": 0.016471,
     "end_time": "2024-05-11T19:16:41.542806",
     "exception": false,
     "start_time": "2024-05-11T19:16:41.526335",
     "status": "completed"
    },
    "tags": []
   },
   "outputs": [],
   "source": [
    "target=list(df['Purchased'].unique())\n",
    "feature_names=list(X.columns)"
   ]
  },
  {
   "cell_type": "code",
   "execution_count": 18,
   "id": "4c7a3d51",
   "metadata": {
    "execution": {
     "iopub.execute_input": "2024-05-11T19:16:41.560794Z",
     "iopub.status.busy": "2024-05-11T19:16:41.560394Z",
     "iopub.status.idle": "2024-05-11T19:16:41.567117Z",
     "shell.execute_reply": "2024-05-11T19:16:41.565896Z"
    },
    "papermill": {
     "duration": 0.01874,
     "end_time": "2024-05-11T19:16:41.569581",
     "exception": false,
     "start_time": "2024-05-11T19:16:41.550841",
     "status": "completed"
    },
    "tags": []
   },
   "outputs": [
    {
     "name": "stdout",
     "output_type": "stream",
     "text": [
      "|--- Age <= 42.50\n",
      "|   |--- EstimatedSalary <= 89500.00\n",
      "|   |   |--- Age <= 36.50\n",
      "|   |   |   |--- class: 0\n",
      "|   |   |--- Age >  36.50\n",
      "|   |   |   |--- class: 0\n",
      "|   |--- EstimatedSalary >  89500.00\n",
      "|   |   |--- EstimatedSalary <= 117500.00\n",
      "|   |   |   |--- class: 1\n",
      "|   |   |--- EstimatedSalary >  117500.00\n",
      "|   |   |   |--- class: 1\n",
      "|--- Age >  42.50\n",
      "|   |--- Age <= 46.50\n",
      "|   |   |--- EstimatedSalary <= 85000.00\n",
      "|   |   |   |--- class: 0\n",
      "|   |   |--- EstimatedSalary >  85000.00\n",
      "|   |   |   |--- class: 1\n",
      "|   |--- Age >  46.50\n",
      "|   |   |--- EstimatedSalary <= 41500.00\n",
      "|   |   |   |--- class: 1\n",
      "|   |   |--- EstimatedSalary >  41500.00\n",
      "|   |   |   |--- class: 1\n",
      "\n"
     ]
    }
   ],
   "source": [
    "r=export_text(model,feature_names=feature_names)\n",
    "print(r)"
   ]
  },
  {
   "cell_type": "code",
   "execution_count": 19,
   "id": "a0bf7c66",
   "metadata": {
    "execution": {
     "iopub.execute_input": "2024-05-11T19:16:41.587343Z",
     "iopub.status.busy": "2024-05-11T19:16:41.586959Z",
     "iopub.status.idle": "2024-05-11T19:16:42.212963Z",
     "shell.execute_reply": "2024-05-11T19:16:42.211914Z"
    },
    "papermill": {
     "duration": 0.637887,
     "end_time": "2024-05-11T19:16:42.215484",
     "exception": false,
     "start_time": "2024-05-11T19:16:41.577597",
     "status": "completed"
    },
    "tags": []
   },
   "outputs": [
    {
     "data": {
      "image/png": "[encoded data removed]",
      "text/plain": [
       "<Figure size 640x480 with 1 Axes>"
      ]
     },
     "metadata": {},
     "output_type": "display_data"
    }
   ],
   "source": [
    "tree.plot_tree(model)\n",
    "plt.show()"
   ]
  }
 ],
 "metadata": {
  "kaggle": {
   "accelerator": "none",
   "dataSources": [
    {
     "datasetId": 4813349,
     "sourceId": 8141179,
     "sourceType": "datasetVersion"
    }
   ],
   "dockerImageVersionId": 30698,
   "isGpuEnabled": false,
   "isInternetEnabled": true,
   "language": "python",
   "sourceType": "notebook"
  },
  "kernelspec": {
   "display_name": "Python 3",
   "language": "python",
   "name": "python3"
  },
  "language_info": {
   "codemirror_mode": {
    "name": "ipython",
    "version": 3
   },
   "file_extension": ".py",
   "mimetype": "text/x-python",
   "name": "python",
   "nbconvert_exporter": "python",
   "pygments_lexer": "ipython3",
   "version": "3.10.13"
  },
  "papermill": {
   "default_parameters": {},
   "duration": 7.238341,
   "end_time": "2024-05-11T19:16:42.845798",
   "environment_variables": {},
   "exception": null,
   "input_path": "__notebook__.ipynb",
   "output_path": "__notebook__.ipynb",
   "parameters": {},
   "start_time": "2024-05-11T19:16:35.607457",
   "version": "2.5.0"
  }
 },
 "nbformat": 4,
 "nbformat_minor": 5
}
